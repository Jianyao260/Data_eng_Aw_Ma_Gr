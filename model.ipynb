{
 "cells": [
  {
   "cell_type": "code",
   "execution_count": 2,
   "metadata": {},
   "outputs": [],
   "source": [
    "import numpy as np\n",
    "import string\n",
    "import pandas as pd\n",
    "from sklearn.metrics.pairwise import cosine_similarity\n",
    "from sklearn.feature_extraction.text import CountVectorizer\n",
    "from gensim.parsing.preprocessing import remove_stopwords\n",
    "import pickle"
   ]
  },
  {
   "cell_type": "code",
   "execution_count": 11,
   "metadata": {},
   "outputs": [
    {
     "output_type": "execute_result",
     "data": {
      "text/plain": [
       "   Unnamed: 0    date                  id  \\\n",
       "0           0   Oct 7  784609194234306560   \n",
       "1           1  Oct 10  785608815962099712   \n",
       "2           2   Oct 8  784840992734064640   \n",
       "3           3   Oct 8  784767399442653184   \n",
       "4           4  Oct 10  785561269571026944   \n",
       "\n",
       "                                         link  retweet  \\\n",
       "0  /realDonaldTrump/status/784609194234306560    False   \n",
       "1  /realDonaldTrump/status/785608815962099712    False   \n",
       "2  /realDonaldTrump/status/784840992734064641    False   \n",
       "3  /realDonaldTrump/status/784767399442653184    False   \n",
       "4  /realDonaldTrump/status/785561269571026946    False   \n",
       "\n",
       "                                                text       author  \n",
       "0    Here is my statement.pic.twitter.com/WAZiGoQqMQ  DonaldTrump  \n",
       "1  Is this really America? Terrible!pic.twitter.c...  DonaldTrump  \n",
       "2  The media and establishment want me out of the...  DonaldTrump  \n",
       "3        Certainly has been an interesting 24 hours!  DonaldTrump  \n",
       "4  Debate polls look great - thank you!\\r\\n#MAGA ...  DonaldTrump  "
      ],
      "text/html": "<div>\n<style scoped>\n    .dataframe tbody tr th:only-of-type {\n        vertical-align: middle;\n    }\n\n    .dataframe tbody tr th {\n        vertical-align: top;\n    }\n\n    .dataframe thead th {\n        text-align: right;\n    }\n</style>\n<table border=\"1\" class=\"dataframe\">\n  <thead>\n    <tr style=\"text-align: right;\">\n      <th></th>\n      <th>Unnamed: 0</th>\n      <th>date</th>\n      <th>id</th>\n      <th>link</th>\n      <th>retweet</th>\n      <th>text</th>\n      <th>author</th>\n    </tr>\n  </thead>\n  <tbody>\n    <tr>\n      <th>0</th>\n      <td>0</td>\n      <td>Oct 7</td>\n      <td>784609194234306560</td>\n      <td>/realDonaldTrump/status/784609194234306560</td>\n      <td>False</td>\n      <td>Here is my statement.pic.twitter.com/WAZiGoQqMQ</td>\n      <td>DonaldTrump</td>\n    </tr>\n    <tr>\n      <th>1</th>\n      <td>1</td>\n      <td>Oct 10</td>\n      <td>785608815962099712</td>\n      <td>/realDonaldTrump/status/785608815962099712</td>\n      <td>False</td>\n      <td>Is this really America? Terrible!pic.twitter.c...</td>\n      <td>DonaldTrump</td>\n    </tr>\n    <tr>\n      <th>2</th>\n      <td>2</td>\n      <td>Oct 8</td>\n      <td>784840992734064640</td>\n      <td>/realDonaldTrump/status/784840992734064641</td>\n      <td>False</td>\n      <td>The media and establishment want me out of the...</td>\n      <td>DonaldTrump</td>\n    </tr>\n    <tr>\n      <th>3</th>\n      <td>3</td>\n      <td>Oct 8</td>\n      <td>784767399442653184</td>\n      <td>/realDonaldTrump/status/784767399442653184</td>\n      <td>False</td>\n      <td>Certainly has been an interesting 24 hours!</td>\n      <td>DonaldTrump</td>\n    </tr>\n    <tr>\n      <th>4</th>\n      <td>4</td>\n      <td>Oct 10</td>\n      <td>785561269571026944</td>\n      <td>/realDonaldTrump/status/785561269571026946</td>\n      <td>False</td>\n      <td>Debate polls look great - thank you!\\r\\n#MAGA ...</td>\n      <td>DonaldTrump</td>\n    </tr>\n  </tbody>\n</table>\n</div>"
     },
     "metadata": {},
     "execution_count": 11
    }
   ],
   "source": [
    "df = pd.read_csv('tweets.csv')\n",
    "df.head(5)"
   ]
  },
  {
   "cell_type": "code",
   "execution_count": 13,
   "metadata": {
    "tags": []
   },
   "outputs": [],
   "source": [
    "def clean_tweets(df):\n",
    "\n",
    "    df_text = df.drop(columns=['Unnamed: 0','date','id','link','retweet','author']) \n",
    "\n",
    "\n",
    "    df_text['text_processed'] = df_text['text'].str.replace(r'@\\S+', '')\n",
    "    df_text['text_processed'] = df_text['text_processed'].str.replace(r'http\\S+','')\n",
    "    df_text['text_processed'] = df_text['text_processed'].str.replace(r'https\\S+','')\n",
    "    df_text['text_processed'] = df_text['text_processed'].str.replace(r'pic\\S+','')\n",
    "    df_text['text_processed'] = df_text['text_processed'].str.replace('[^a-zA-Z]',' ')\n",
    "    df_text['text_processed'] = df_text['text_processed'].str.lower()\n",
    "    df_text['text_processed'] = df_text['text_processed'].apply(lambda x: ' '.join([w for w in x.split() if len(w)>1]))\n",
    "\n",
    "    a = 0\n",
    "    for i in df_text['text_processed']:\n",
    "        df_text['text_processed'][a] = remove_stopwords(df_text['text_processed'][a])\n",
    "        a += 1\n",
    "\n",
    "    arr_og = df['text'].to_numpy()\n",
    "    arr = df_text['text_processed'].to_numpy()\n",
    "\n",
    "    return arr\n"
   ]
  },
  {
   "cell_type": "code",
   "execution_count": 14,
   "metadata": {},
   "outputs": [
    {
     "output_type": "execute_result",
     "data": {
      "text/plain": [
       "array(['statement', 'america terrible',\n",
       "       'media establishment want race badly drop race let supporters maga',\n",
       "       ...,\n",
       "       'donald trump reads financial tips late david letterman funny',\n",
       "       'donald trump appearing view tomorrow morning discuss celebrity apprentice new book think like champion',\n",
       "       'sure tune watch donald trump late night david letterman presents list tonight'],\n",
       "      dtype=object)"
      ]
     },
     "metadata": {},
     "execution_count": 14
    }
   ],
   "source": []
  },
  {
   "cell_type": "code",
   "execution_count": 6,
   "metadata": {
    "tags": []
   },
   "outputs": [],
   "source": [
    "def similar_tweets(sentence, arr, arr_og):\n",
    "\n",
    "    arr = np.append(arr, sentence)\n",
    "\n",
    "    vectorizer = CountVectorizer().fit_transform(arr)\n",
    "    vectors = vectorizer.toarray()\n",
    "\n",
    "    sim = pd.DataFrame(columns = ['cosine', 'tweet'])\n",
    "\n",
    "    for i in range(len(vectors) - 1):\n",
    "        if consine_sim_vectors(vectors[i], vectors[len(vectors) - 1]) != 0:\n",
    "            a = pd.DataFrame([[consine_sim_vectors(vectors[i], vectors[len(vectors) - 1]), arr_og[i]]], columns = ['cosine', 'tweet'])\n",
    "            sim = sim.append(a)\n",
    "    \n",
    "    sim = sim.sort_values(by=['cosine'], ascending=False, ignore_index=True)\n",
    "    return(sim.head(20))"
   ]
  },
  {
   "cell_type": "code",
   "execution_count": 12,
   "metadata": {},
   "outputs": [
    {
     "output_type": "stream",
     "name": "stdout",
     "text": [
      "3\n"
     ]
    }
   ],
   "source": [
    "a = similar_tweets('az', arr, arr_og)\n",
    "print(len(a['tweet']))"
   ]
  },
  {
   "cell_type": "code",
   "execution_count": 42,
   "metadata": {},
   "outputs": [
    {
     "output_type": "execute_result",
     "data": {
      "text/plain": [
       "array([[0, 0, 0, ..., 0, 0, 0],\n",
       "       [0, 0, 0, ..., 0, 0, 0],\n",
       "       [0, 0, 0, ..., 0, 0, 0],\n",
       "       ...,\n",
       "       [0, 0, 0, ..., 0, 0, 0],\n",
       "       [0, 0, 0, ..., 0, 0, 0],\n",
       "       [0, 0, 0, ..., 0, 0, 0]], dtype=int64)"
      ]
     },
     "metadata": {},
     "execution_count": 42
    }
   ],
   "source": [
    "vectorizer = CountVectorizer().fit_transform(arr)\n",
    "vectors = vectorizer.toarray()\n",
    "vectors"
   ]
  },
  {
   "cell_type": "code",
   "execution_count": 60,
   "metadata": {},
   "outputs": [],
   "source": [
    "csim = cosine_similarity(vectors)"
   ]
  },
  {
   "cell_type": "code",
   "execution_count": null,
   "metadata": {},
   "outputs": [],
   "source": [
    "size(vectors)"
   ]
  },
  {
   "cell_type": "code",
   "execution_count": 8,
   "metadata": {},
   "outputs": [],
   "source": [
    "def consine_sim_vectors(vec1, vec2):\n",
    "    vec1 = vec1.reshape(1, -1)\n",
    "    vec2 = vec2.reshape(1, -1)\n",
    "\n",
    "    return cosine_similarity(vec1, vec2)[0][0]"
   ]
  },
  {
   "cell_type": "code",
   "execution_count": 45,
   "metadata": {},
   "outputs": [
    {
     "output_type": "execute_result",
     "data": {
      "text/plain": [
       "1.0"
      ]
     },
     "metadata": {},
     "execution_count": 45
    }
   ],
   "source": [
    "consine_sim_vectors(vectors[0], vectors[17216])"
   ]
  },
  {
   "cell_type": "code",
   "execution_count": 17,
   "metadata": {},
   "outputs": [
    {
     "output_type": "stream",
     "name": "stdout",
     "text": [
      "yes\n"
     ]
    }
   ],
   "source": [
    "affichage = str()\n",
    "if not affichage:\n",
    "    print('yes')\n"
   ]
  },
  {
   "cell_type": "code",
   "execution_count": 21,
   "metadata": {},
   "outputs": [
    {
     "output_type": "error",
     "ename": "NameError",
     "evalue": "name 'fit_transform' is not defined",
     "traceback": [
      "\u001b[1;31m---------------------------------------------------------------------------\u001b[0m",
      "\u001b[1;31mNameError\u001b[0m                                 Traceback (most recent call last)",
      "\u001b[1;32m<ipython-input-21-c090f4ec6651>\u001b[0m in \u001b[0;36m<module>\u001b[1;34m\u001b[0m\n\u001b[0;32m      3\u001b[0m \u001b[0ma\u001b[0m\u001b[1;33m\u001b[0m\u001b[1;33m\u001b[0m\u001b[0m\n\u001b[0;32m      4\u001b[0m \u001b[1;33m\u001b[0m\u001b[0m\n\u001b[1;32m----> 5\u001b[1;33m \u001b[0mfit_transform\u001b[0m\u001b[1;33m(\u001b[0m\u001b[1;33m[\u001b[0m\u001b[1;34m'lmao Mamoun the big fat retard'\u001b[0m\u001b[1;33m]\u001b[0m\u001b[1;33m)\u001b[0m\u001b[1;33m.\u001b[0m\u001b[0mtoarray\u001b[0m\u001b[1;33m(\u001b[0m\u001b[1;33m)\u001b[0m\u001b[1;33m\u001b[0m\u001b[1;33m\u001b[0m\u001b[0m\n\u001b[0m",
      "\u001b[1;31mNameError\u001b[0m: name 'fit_transform' is not defined"
     ]
    }
   ],
   "source": [
    "a = CountVectorizer().fit_transform(['statement obama dick lol', 'lol lol trump racist', 'lmao fuck trump fuck lol'])\n",
    "a = a.toarray()\n",
    "a\n",
    "\n"
   ]
  },
  {
   "cell_type": "code",
   "execution_count": 22,
   "metadata": {},
   "outputs": [
    {
     "output_type": "error",
     "ename": "ValueError",
     "evalue": "Incompatible dimension for X and Y matrices: X.shape[1] == 1 while Y.shape[1] == 11897",
     "traceback": [
      "\u001b[1;31m---------------------------------------------------------------------------\u001b[0m",
      "\u001b[1;31mValueError\u001b[0m                                Traceback (most recent call last)",
      "\u001b[1;32m<ipython-input-22-6e712bcac279>\u001b[0m in \u001b[0;36m<module>\u001b[1;34m\u001b[0m\n\u001b[1;32m----> 1\u001b[1;33m \u001b[0mconsine_sim_vectors\u001b[0m\u001b[1;33m(\u001b[0m\u001b[0ma\u001b[0m\u001b[1;33m,\u001b[0m \u001b[0mvectors\u001b[0m\u001b[1;33m[\u001b[0m\u001b[1;36m0\u001b[0m\u001b[1;33m]\u001b[0m\u001b[1;33m)\u001b[0m\u001b[1;33m\u001b[0m\u001b[1;33m\u001b[0m\u001b[0m\n\u001b[0m",
      "\u001b[1;32m<ipython-input-10-d56fc10ceeab>\u001b[0m in \u001b[0;36mconsine_sim_vectors\u001b[1;34m(vec1, vec2)\u001b[0m\n\u001b[0;32m      3\u001b[0m     \u001b[0mvec2\u001b[0m \u001b[1;33m=\u001b[0m \u001b[0mvec2\u001b[0m\u001b[1;33m.\u001b[0m\u001b[0mreshape\u001b[0m\u001b[1;33m(\u001b[0m\u001b[1;36m1\u001b[0m\u001b[1;33m,\u001b[0m \u001b[1;33m-\u001b[0m\u001b[1;36m1\u001b[0m\u001b[1;33m)\u001b[0m\u001b[1;33m\u001b[0m\u001b[1;33m\u001b[0m\u001b[0m\n\u001b[0;32m      4\u001b[0m \u001b[1;33m\u001b[0m\u001b[0m\n\u001b[1;32m----> 5\u001b[1;33m     \u001b[1;32mreturn\u001b[0m \u001b[0mcosine_similarity\u001b[0m\u001b[1;33m(\u001b[0m\u001b[0mvec1\u001b[0m\u001b[1;33m,\u001b[0m \u001b[0mvec2\u001b[0m\u001b[1;33m)\u001b[0m\u001b[1;33m[\u001b[0m\u001b[1;36m0\u001b[0m\u001b[1;33m]\u001b[0m\u001b[1;33m[\u001b[0m\u001b[1;36m0\u001b[0m\u001b[1;33m]\u001b[0m\u001b[1;33m\u001b[0m\u001b[1;33m\u001b[0m\u001b[0m\n\u001b[0m",
      "\u001b[1;32m~\\anaconda3\\envs\\data_eng_pj\\lib\\site-packages\\sklearn\\metrics\\pairwise.py\u001b[0m in \u001b[0;36mcosine_similarity\u001b[1;34m(X, Y, dense_output)\u001b[0m\n\u001b[0;32m   1177\u001b[0m     \u001b[1;31m# to avoid recursive import\u001b[0m\u001b[1;33m\u001b[0m\u001b[1;33m\u001b[0m\u001b[1;33m\u001b[0m\u001b[0m\n\u001b[0;32m   1178\u001b[0m \u001b[1;33m\u001b[0m\u001b[0m\n\u001b[1;32m-> 1179\u001b[1;33m     \u001b[0mX\u001b[0m\u001b[1;33m,\u001b[0m \u001b[0mY\u001b[0m \u001b[1;33m=\u001b[0m \u001b[0mcheck_pairwise_arrays\u001b[0m\u001b[1;33m(\u001b[0m\u001b[0mX\u001b[0m\u001b[1;33m,\u001b[0m \u001b[0mY\u001b[0m\u001b[1;33m)\u001b[0m\u001b[1;33m\u001b[0m\u001b[1;33m\u001b[0m\u001b[0m\n\u001b[0m\u001b[0;32m   1180\u001b[0m \u001b[1;33m\u001b[0m\u001b[0m\n\u001b[0;32m   1181\u001b[0m     \u001b[0mX_normalized\u001b[0m \u001b[1;33m=\u001b[0m \u001b[0mnormalize\u001b[0m\u001b[1;33m(\u001b[0m\u001b[0mX\u001b[0m\u001b[1;33m,\u001b[0m \u001b[0mcopy\u001b[0m\u001b[1;33m=\u001b[0m\u001b[1;32mTrue\u001b[0m\u001b[1;33m)\u001b[0m\u001b[1;33m\u001b[0m\u001b[1;33m\u001b[0m\u001b[0m\n",
      "\u001b[1;32m~\\anaconda3\\envs\\data_eng_pj\\lib\\site-packages\\sklearn\\utils\\validation.py\u001b[0m in \u001b[0;36minner_f\u001b[1;34m(*args, **kwargs)\u001b[0m\n\u001b[0;32m     70\u001b[0m                           FutureWarning)\n\u001b[0;32m     71\u001b[0m         \u001b[0mkwargs\u001b[0m\u001b[1;33m.\u001b[0m\u001b[0mupdate\u001b[0m\u001b[1;33m(\u001b[0m\u001b[1;33m{\u001b[0m\u001b[0mk\u001b[0m\u001b[1;33m:\u001b[0m \u001b[0marg\u001b[0m \u001b[1;32mfor\u001b[0m \u001b[0mk\u001b[0m\u001b[1;33m,\u001b[0m \u001b[0marg\u001b[0m \u001b[1;32min\u001b[0m \u001b[0mzip\u001b[0m\u001b[1;33m(\u001b[0m\u001b[0msig\u001b[0m\u001b[1;33m.\u001b[0m\u001b[0mparameters\u001b[0m\u001b[1;33m,\u001b[0m \u001b[0margs\u001b[0m\u001b[1;33m)\u001b[0m\u001b[1;33m}\u001b[0m\u001b[1;33m)\u001b[0m\u001b[1;33m\u001b[0m\u001b[1;33m\u001b[0m\u001b[0m\n\u001b[1;32m---> 72\u001b[1;33m         \u001b[1;32mreturn\u001b[0m \u001b[0mf\u001b[0m\u001b[1;33m(\u001b[0m\u001b[1;33m**\u001b[0m\u001b[0mkwargs\u001b[0m\u001b[1;33m)\u001b[0m\u001b[1;33m\u001b[0m\u001b[1;33m\u001b[0m\u001b[0m\n\u001b[0m\u001b[0;32m     73\u001b[0m     \u001b[1;32mreturn\u001b[0m \u001b[0minner_f\u001b[0m\u001b[1;33m\u001b[0m\u001b[1;33m\u001b[0m\u001b[0m\n\u001b[0;32m     74\u001b[0m \u001b[1;33m\u001b[0m\u001b[0m\n",
      "\u001b[1;32m~\\anaconda3\\envs\\data_eng_pj\\lib\\site-packages\\sklearn\\metrics\\pairwise.py\u001b[0m in \u001b[0;36mcheck_pairwise_arrays\u001b[1;34m(X, Y, precomputed, dtype, accept_sparse, force_all_finite, copy)\u001b[0m\n\u001b[0;32m    159\u001b[0m         raise ValueError(\"Incompatible dimension for X and Y matrices: \"\n\u001b[0;32m    160\u001b[0m                          \"X.shape[1] == %d while Y.shape[1] == %d\" % (\n\u001b[1;32m--> 161\u001b[1;33m                              X.shape[1], Y.shape[1]))\n\u001b[0m\u001b[0;32m    162\u001b[0m \u001b[1;33m\u001b[0m\u001b[0m\n\u001b[0;32m    163\u001b[0m     \u001b[1;32mreturn\u001b[0m \u001b[0mX\u001b[0m\u001b[1;33m,\u001b[0m \u001b[0mY\u001b[0m\u001b[1;33m\u001b[0m\u001b[1;33m\u001b[0m\u001b[0m\n",
      "\u001b[1;31mValueError\u001b[0m: Incompatible dimension for X and Y matrices: X.shape[1] == 1 while Y.shape[1] == 11897"
     ]
    }
   ],
   "source": [
    "consine_sim_vectors(a, vectors[0])"
   ]
  },
  {
   "cell_type": "code",
   "execution_count": 32,
   "metadata": {},
   "outputs": [
    {
     "output_type": "execute_result",
     "data": {
      "text/plain": [
       "17217"
      ]
     },
     "metadata": {},
     "execution_count": 32
    }
   ],
   "source": []
  },
  {
   "cell_type": "code",
   "execution_count": null,
   "metadata": {},
   "outputs": [],
   "source": []
  }
 ],
 "metadata": {
  "kernelspec": {
   "name": "python3",
   "display_name": "Python 3.7.9 64-bit ('data_eng_pj': conda)",
   "metadata": {
    "interpreter": {
     "hash": "cd084edce79660b4024a4b6652c044f7e8b6d6a1c1ae47b6decf89508b0bdf59"
    }
   }
  },
  "language_info": {
   "codemirror_mode": {
    "name": "ipython",
    "version": 3
   },
   "file_extension": ".py",
   "mimetype": "text/x-python",
   "name": "python",
   "nbconvert_exporter": "python",
   "pygments_lexer": "ipython3",
   "version": "3.7.9-final"
  }
 },
 "nbformat": 4,
 "nbformat_minor": 2
}